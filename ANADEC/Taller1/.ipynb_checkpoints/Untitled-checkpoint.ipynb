{
 "cells": [
  {
   "cell_type": "code",
   "execution_count": 1,
   "metadata": {},
   "outputs": [],
   "source": [
    "import numpy as np\n",
    "import scipy as sp\n",
    "import seaborn as sns\n",
    "import matplotlib as mpl\n",
    "import matplotlib.pyplot as plt\n",
    "#Si mi primo decide estudiar ingenieria civil:\n",
    "\n",
    "vidaprimo = np.linspace(19,70,71-19)\n",
    "vidaproyecto = vidaprimo - 19"
   ]
  },
  {
   "cell_type": "code",
   "execution_count": 2,
   "metadata": {},
   "outputs": [
    {
     "data": {
      "text/plain": [
       "array([19., 20., 21., 22., 23., 24., 25., 26., 27., 28., 29., 30., 31.,\n",
       "       32., 33., 34., 35., 36., 37., 38., 39., 40., 41., 42., 43., 44.,\n",
       "       45., 46., 47., 48., 49., 50., 51., 52., 53., 54., 55., 56., 57.,\n",
       "       58., 59., 60., 61., 62., 63., 64., 65., 66., 67., 68., 69., 70.])"
      ]
     },
     "execution_count": 2,
     "metadata": {},
     "output_type": "execute_result"
    }
   ],
   "source": [
    "vidaprimo"
   ]
  },
  {
   "cell_type": "code",
   "execution_count": 3,
   "metadata": {},
   "outputs": [
    {
     "data": {
      "text/plain": [
       "array([ 0.,  1.,  2.,  3.,  4.,  5.,  6.,  7.,  8.,  9., 10., 11., 12.,\n",
       "       13., 14., 15., 16., 17., 18., 19., 20., 21., 22., 23., 24., 25.,\n",
       "       26., 27., 28., 29., 30., 31., 32., 33., 34., 35., 36., 37., 38.,\n",
       "       39., 40., 41., 42., 43., 44., 45., 46., 47., 48., 49., 50., 51.])"
      ]
     },
     "execution_count": 3,
     "metadata": {},
     "output_type": "execute_result"
    }
   ],
   "source": [
    "vidaproyecto"
   ]
  },
  {
   "cell_type": "code",
   "execution_count": 4,
   "metadata": {},
   "outputs": [],
   "source": [
    "linecitas = [0]\n",
    "for i in range(5):\n",
    "    linecitas.append(-34e6)\n",
    "    \n",
    "for i in range(5):\n",
    "    linecitas.append(48e6 + 0.7e6*i)\n",
    "    \n",
    "for i in range(8):\n",
    "    linecitas.append(24e6)\n",
    "    \n",
    "for i in range(31-19+1):\n",
    "    linecitas.append(180e6*(1+0.18)**i)\n",
    "\n",
    "a = linecitas[-1]\n",
    "    \n",
    "for i in range(71-51):\n",
    "    linecitas.append(a*0.7)\n",
    "    "
   ]
  },
  {
   "cell_type": "code",
   "execution_count": 5,
   "metadata": {},
   "outputs": [
    {
     "data": {
      "text/plain": [
       "[0,\n",
       " -34000000.0,\n",
       " -34000000.0,\n",
       " -34000000.0,\n",
       " -34000000.0,\n",
       " -34000000.0,\n",
       " 48000000.0,\n",
       " 48700000.0,\n",
       " 49400000.0,\n",
       " 50100000.0,\n",
       " 50800000.0,\n",
       " 24000000.0,\n",
       " 24000000.0,\n",
       " 24000000.0,\n",
       " 24000000.0,\n",
       " 24000000.0,\n",
       " 24000000.0,\n",
       " 24000000.0,\n",
       " 24000000.0,\n",
       " 180000000.0,\n",
       " 212400000.0,\n",
       " 250631999.99999997,\n",
       " 295745759.99999994,\n",
       " 348979996.79999995,\n",
       " 411796396.2239999,\n",
       " 485919747.54431987,\n",
       " 573385302.1022974,\n",
       " 676594656.4807109,\n",
       " 798381694.6472389,\n",
       " 942090399.6837417,\n",
       " 1111666671.6268153,\n",
       " 1311766672.5196419,\n",
       " 918236670.7637492,\n",
       " 918236670.7637492,\n",
       " 918236670.7637492,\n",
       " 918236670.7637492,\n",
       " 918236670.7637492,\n",
       " 918236670.7637492,\n",
       " 918236670.7637492,\n",
       " 918236670.7637492,\n",
       " 918236670.7637492,\n",
       " 918236670.7637492,\n",
       " 918236670.7637492,\n",
       " 918236670.7637492,\n",
       " 918236670.7637492,\n",
       " 918236670.7637492,\n",
       " 918236670.7637492,\n",
       " 918236670.7637492,\n",
       " 918236670.7637492,\n",
       " 918236670.7637492,\n",
       " 918236670.7637492,\n",
       " 918236670.7637492]"
      ]
     },
     "execution_count": 5,
     "metadata": {},
     "output_type": "execute_result"
    }
   ],
   "source": [
    "linecitas"
   ]
  },
  {
   "cell_type": "code",
   "execution_count": 6,
   "metadata": {},
   "outputs": [
    {
     "data": {
      "text/plain": [
       "array([   0.        ,  -34.        ,  -34.        ,  -34.        ,\n",
       "        -34.        ,  -34.        ,   48.        ,   48.7       ,\n",
       "         49.4       ,   50.1       ,   50.8       ,   24.        ,\n",
       "         24.        ,   24.        ,   24.        ,   24.        ,\n",
       "         24.        ,   24.        ,   24.        ,  180.        ,\n",
       "        212.4       ,  250.632     ,  295.74576   ,  348.9799968 ,\n",
       "        411.79639622,  485.91974754,  573.3853021 ,  676.59465648,\n",
       "        798.38169465,  942.09039968, 1111.66667163, 1311.76667252,\n",
       "        918.23667076,  918.23667076,  918.23667076,  918.23667076,\n",
       "        918.23667076,  918.23667076,  918.23667076,  918.23667076,\n",
       "        918.23667076,  918.23667076,  918.23667076,  918.23667076,\n",
       "        918.23667076,  918.23667076,  918.23667076,  918.23667076,\n",
       "        918.23667076,  918.23667076,  918.23667076,  918.23667076])"
      ]
     },
     "execution_count": 6,
     "metadata": {},
     "output_type": "execute_result"
    }
   ],
   "source": [
    "linecitas2 = np.array(linecitas)*(1/1000000)\n",
    "linecitas2"
   ]
  },
  {
   "cell_type": "code",
   "execution_count": null,
   "metadata": {
    "scrolled": false
   },
   "outputs": [],
   "source": []
  },
  {
   "cell_type": "code",
   "execution_count": null,
   "metadata": {},
   "outputs": [],
   "source": []
  },
  {
   "cell_type": "code",
   "execution_count": 7,
   "metadata": {},
   "outputs": [],
   "source": [
    "medicina = [0]\n",
    "\n",
    "for i in range(5):\n",
    "    medicina.append(-(1.8e6*12 + 15e6*2))\n",
    "for i in range(2):\n",
    "    medicina.append(-60e6)\n",
    "for i in range(51-27):\n",
    "    medicina.append((12e6*12)*(1+0.05)**i)\n",
    "a = medicina[-1]\n",
    "for i in range(71-51):\n",
    "    medicina.append(a*0.3)"
   ]
  },
  {
   "cell_type": "code",
   "execution_count": 8,
   "metadata": {
    "scrolled": true
   },
   "outputs": [
    {
     "data": {
      "text/plain": [
       "[0,\n",
       " -51600000.0,\n",
       " -51600000.0,\n",
       " -51600000.0,\n",
       " -51600000.0,\n",
       " -51600000.0,\n",
       " -60000000.0,\n",
       " -60000000.0,\n",
       " 144000000.0,\n",
       " 151200000.0,\n",
       " 158760000.0,\n",
       " 166698000.00000003,\n",
       " 175032900.00000003,\n",
       " 183784545.00000006,\n",
       " 192973772.25000006,\n",
       " 202622460.86250007,\n",
       " 212753583.90562508,\n",
       " 223391263.10090634,\n",
       " 234560826.25595164,\n",
       " 246288867.56874925,\n",
       " 258603310.94718674,\n",
       " 271533476.49454606,\n",
       " 285110150.3192734,\n",
       " 299365657.8352371,\n",
       " 314333940.7269989,\n",
       " 330050637.7633489,\n",
       " 346553169.6515163,\n",
       " 363880828.1340922,\n",
       " 382074869.5407968,\n",
       " 401178613.0178367,\n",
       " 421237543.66872853,\n",
       " 442299420.852165,\n",
       " 132689826.25564949,\n",
       " 132689826.25564949,\n",
       " 132689826.25564949,\n",
       " 132689826.25564949,\n",
       " 132689826.25564949,\n",
       " 132689826.25564949,\n",
       " 132689826.25564949,\n",
       " 132689826.25564949,\n",
       " 132689826.25564949,\n",
       " 132689826.25564949,\n",
       " 132689826.25564949,\n",
       " 132689826.25564949,\n",
       " 132689826.25564949,\n",
       " 132689826.25564949,\n",
       " 132689826.25564949,\n",
       " 132689826.25564949,\n",
       " 132689826.25564949,\n",
       " 132689826.25564949,\n",
       " 132689826.25564949,\n",
       " 132689826.25564949]"
      ]
     },
     "execution_count": 8,
     "metadata": {},
     "output_type": "execute_result"
    }
   ],
   "source": [
    "medicina"
   ]
  },
  {
   "cell_type": "code",
   "execution_count": 9,
   "metadata": {
    "scrolled": true
   },
   "outputs": [
    {
     "data": {
      "text/plain": [
       "array([  0.        , -51.6       , -51.6       , -51.6       ,\n",
       "       -51.6       , -51.6       , -60.        , -60.        ,\n",
       "       144.        , 151.2       , 158.76      , 166.698     ,\n",
       "       175.0329    , 183.784545  , 192.97377225, 202.62246086,\n",
       "       212.75358391, 223.3912631 , 234.56082626, 246.28886757,\n",
       "       258.60331095, 271.53347649, 285.11015032, 299.36565784,\n",
       "       314.33394073, 330.05063776, 346.55316965, 363.88082813,\n",
       "       382.07486954, 401.17861302, 421.23754367, 442.29942085,\n",
       "       132.68982626, 132.68982626, 132.68982626, 132.68982626,\n",
       "       132.68982626, 132.68982626, 132.68982626, 132.68982626,\n",
       "       132.68982626, 132.68982626, 132.68982626, 132.68982626,\n",
       "       132.68982626, 132.68982626, 132.68982626, 132.68982626,\n",
       "       132.68982626, 132.68982626, 132.68982626, 132.68982626])"
      ]
     },
     "execution_count": 9,
     "metadata": {},
     "output_type": "execute_result"
    }
   ],
   "source": [
    "medicina2 = np.array(medicina)*(1/1000000)\n",
    "medicina2"
   ]
  },
  {
   "cell_type": "code",
   "execution_count": 38,
   "metadata": {},
   "outputs": [],
   "source": [
    "#Esta función retorna el valor futuro de una cantidad en un tiempo presente, con un costo de oportunidad i y \n",
    "# un número de saltos (intervalos) en el tiempo\n",
    "def Vf(Vp,i,n):\n",
    "    return Vp*((1+i)**n)\n",
    "\n",
    "#Esta función retorna el valor presente de una cantidad en un tiempo futuro, con un costo de oportunidad i y \n",
    "# un número de saltos (intervalos) n en el tiempo\n",
    "def Vp(Vf,i,n):\n",
    "    print(\"Vf: \", Vf  , \" \", \"i: \", i, \" \" , \"n: \", n)\n",
    "    return Vf/((1+i)**n)\n",
    "\n",
    "#Esta función retorna el valor presente de una serie de flujos uniformes, EN EL INSTANTE DE TIEMPO ANTERIOR AL INICIO DE \n",
    "# LA SERIE, A es el valor uniforme, i es el costo de oportunidad y n es el número de periodos (flechitas)\n",
    "def Vpuniforme(A,i,n):\n",
    "    print(\"A: \", A  , \" \", \"i: \", i, \" \" , \"n: \", n)\n",
    "    return A*((((1+i)**n) - 1)/(i*((1+i)**n)))\n",
    "\n",
    "#Esta función retorna el valor presente del gradiente aritmético dos periodos antes de que este inicie o uno antes de la base\n",
    "# uniforme, con un incremento G, un costo de oportunidad i y un número de incrementos n (flechitas).\n",
    "\n",
    "def Vpgradarit(G,i,n):\n",
    "    print(\"G: \", G  , \" \", \"i: \", i, \" \" , \"n: \", n)\n",
    "    return (G/i)*(Vpuniforme(1,i,n)-(n/((1+i)**n)))\n",
    "\n",
    "# Esta función retorna el valor presente del gradiente geométrico finito un periodo antes que éste inicie, D es el monto \n",
    "# inicial, g es la tasa a la que aumenta, k es el costo de oportunidad y n es el número de periodos que dura (desde D)\n",
    "                  \n",
    "def Vpgradgeomfinito(D,g,k,n):\n",
    "    print(\"D: \", D  , \" \", \"g: \", g, \" \" , \"k: \" ,k, \" \" , \"n: \", n)\n",
    "    val = 0\n",
    "    if(k == g):\n",
    "        val = n*D/(1+g)\n",
    "    else:\n",
    "        val = D*((1-((1+g)/(1+k))**n)/(k-g))\n",
    "    return val\n",
    "    "
   ]
  },
  {
   "cell_type": "code",
   "execution_count": 39,
   "metadata": {},
   "outputs": [
    {
     "data": {
      "text/plain": [
       "Text(0.5, 0, 'Años del proyecto')"
      ]
     },
     "execution_count": 39,
     "metadata": {},
     "output_type": "execute_result"
    },
    {
     "data": {
      "image/png": "[encoded data removed]",
      "text/plain": [
       "<Figure size 1152x648 with 1 Axes>"
      ]
     },
     "metadata": {
      "needs_background": "light"
     },
     "output_type": "display_data"
    }
   ],
   "source": [
    "plt.figure(figsize=(16,9))\n",
    "plt.stem(vidaproyecto,linecitas2,use_line_collection=True)\n",
    "plt.xticks(range(len(linecitas2)))\n",
    "plt.yticks(np.arange(-50, max(linecitas2)+50, 50))\n",
    "plt.ylabel(\"Dinero en Millones de pesos\")\n",
    "plt.xlabel(\"Años del proyecto\")"
   ]
  },
  {
   "cell_type": "code",
   "execution_count": 40,
   "metadata": {},
   "outputs": [
    {
     "data": {
      "text/plain": [
       "Text(0.5, 0, 'Años del primo')"
      ]
     },
     "execution_count": 40,
     "metadata": {},
     "output_type": "execute_result"
    },
    {
     "data": {
      "image/png": "[encoded data removed]",
      "text/plain": [
       "<Figure size 1152x648 with 1 Axes>"
      ]
     },
     "metadata": {
      "needs_background": "light"
     },
     "output_type": "display_data"
    }
   ],
   "source": [
    "plt.figure(figsize=(16,9))\n",
    "plt.stem(vidaprimo,linecitas2,use_line_collection=True)\n",
    "plt.xticks(np.arange(min(vidaprimo), max(vidaprimo)+1, 1))\n",
    "plt.yticks(np.arange(-50, max(linecitas2)+50, 50))\n",
    "plt.ylabel(\"Dinero en Millones de pesos\")\n",
    "plt.xlabel(\"Años del primo\")"
   ]
  },
  {
   "cell_type": "code",
   "execution_count": 42,
   "metadata": {},
   "outputs": [
    {
     "name": "stdout",
     "output_type": "stream",
     "text": [
      "A:  -34000000.0   i:  0.1   n:  5\n",
      "-128886750.15988731\n",
      "A:  48000000.0   i:  0.1   n:  5\n",
      "181957764.93160564\n",
      "G:  700000.0   i:  0.1   n:  5\n",
      "A:  1   i:  0.1   n:  5\n",
      "4803261.07878873\n",
      "A:  24000000.0   i:  0.1   n:  8\n",
      "128038228.74966405\n",
      "D:  180000000.0   g:  0.18   k:  0.1   n:  13\n",
      "3354588173.4312434\n",
      "A:  918236670.7637492   i:  0.1   n:  20\n",
      "7817466406.366146\n",
      "Vf:  181957764.93160564   i:  0.1   n:  5\n",
      "Vf:  4803261.07878873   i:  0.1   n:  5\n",
      "Vf:  128038228.74966405   i:  0.1   n:  10\n",
      "Vf:  3354588173.4312434   i:  0.1   n:  18\n",
      "Vf:  7817466406.366146   i:  0.1   n:  31\n",
      "[-128886750.15988731, 112981456.14221928, 2982447.2240400426, 49364279.88487627, 603352169.5171026, 407279718.3902946]\n"
     ]
    },
    {
     "data": {
      "text/plain": [
       "1047073320.9986455"
      ]
     },
     "execution_count": 42,
     "metadata": {},
     "output_type": "execute_result"
    }
   ],
   "source": [
    "#Calculo del valor presente de la ingenieria civil:\n",
    "\n",
    "#Flujo uniforme de 20-24 años en 19 años\n",
    "V1_19 = Vpuniforme(linecitas[1],0.1,24-20+1)\n",
    "print(V1_19)\n",
    "\n",
    "#Flujo uniforme de 25-29 años en 24 años\n",
    "V2_24 = Vpuniforme(linecitas[6],0.1,29-25+1)\n",
    "print(V2_24)\n",
    "\n",
    "#Gradiente aritmetico de 26-29 años en 24 años\n",
    "V3_24 = Vpgradarit(0.7e6,0.1,29-25+1)\n",
    "print(V3_24)\n",
    "\n",
    "#Flujo uniforme de 30 a 37 años en 29 años\n",
    "V4_29 = Vpuniforme(linecitas[11],0.1,37-30+1)\n",
    "print(V4_29)\n",
    "\n",
    "#Gradiente geometrico de 38 a 50 años en 37 años\n",
    "V5_37 = Vpgradgeomfinito(linecitas[19],0.18,0.1,50-38+1)\n",
    "print(V5_37)\n",
    "\n",
    "#Flujo uniforme de 51 a 70 años en 50 años\n",
    "V6_50 = Vpuniforme(linecitas[32],0.1,70-51+1)\n",
    "print(V6_50)\n",
    "\n",
    "#Paso todo a tiempo 19 años\n",
    "V2_19 = Vp(V2_24,0.1,24-19)\n",
    "V3_19 = Vp(V3_24,0.1,24-19)\n",
    "V4_19 = Vp(V4_29,0.1,29-19)\n",
    "V5_19 = Vp(V5_37,0.1,37-19)\n",
    "V6_19 = Vp(V6_50,0.1,50-19)\n",
    "\n",
    "vec1 = [V1_19,V2_19,V3_19,V4_19,V5_19,V6_19]\n",
    "print(vec1)\n",
    "vec1 = np.array(vec1)\n",
    "VPF1 = np.sum(vec1)\n",
    "VPF1\n"
   ]
  },
  {
   "cell_type": "code",
   "execution_count": 17,
   "metadata": {
    "scrolled": true
   },
   "outputs": [
    {
     "data": {
      "text/plain": [
       "1047073320.9986469"
      ]
     },
     "execution_count": 17,
     "metadata": {},
     "output_type": "execute_result"
    }
   ],
   "source": [
    "#Comprobar pasando todos los flujos a tiempo presente y ya:\n",
    "\n",
    "#Ing civil:\n",
    "VP = []\n",
    "VP1 = 0\n",
    "for i in range(len(linecitas)):\n",
    "    VP.append(Vp(linecitas[i],0.1,i))\n",
    "VP = np.array(VP)\n",
    "VP1 = np.sum(VP)\n",
    "VP1"
   ]
  },
  {
   "cell_type": "code",
   "execution_count": 24,
   "metadata": {},
   "outputs": [
    {
     "data": {
      "text/plain": [
       "639793602.608351"
      ]
     },
     "execution_count": 24,
     "metadata": {},
     "output_type": "execute_result"
    }
   ],
   "source": [
    "#Si al primo le pasa algo estudiando ingcivil a los 50:\n",
    "VP11 = np.sum(vec1) - vec1[-1]\n",
    "VP11"
   ]
  },
  {
   "cell_type": "code",
   "execution_count": 25,
   "metadata": {},
   "outputs": [
    {
     "data": {
      "text/plain": [
       "639793602.6083525"
      ]
     },
     "execution_count": 25,
     "metadata": {},
     "output_type": "execute_result"
    }
   ],
   "source": [
    "#Si al primo le pasa algo estudiando ingcivil a los 50 así no más:\n",
    "VP = []\n",
    "VP1 = 0\n",
    "for i in range(32):\n",
    "    VP.append(Vp(linecitas[i],0.1,i))\n",
    "VP = np.array(VP)\n",
    "VP1 = np.sum(VP)\n",
    "VP1"
   ]
  },
  {
   "cell_type": "code",
   "execution_count": 14,
   "metadata": {
    "scrolled": false
   },
   "outputs": [
    {
     "data": {
      "text/plain": [
       "Text(0.5, 0, 'Años del proyecto')"
      ]
     },
     "execution_count": 14,
     "metadata": {},
     "output_type": "execute_result"
    },
    {
     "data": {
      "image/png": "[encoded data removed]",
      "text/plain": [
       "<Figure size 1152x648 with 1 Axes>"
      ]
     },
     "metadata": {
      "needs_background": "light"
     },
     "output_type": "display_data"
    }
   ],
   "source": [
    "plt.figure(figsize=(16,9))\n",
    "plt.stem(vidaproyecto,medicina2,use_line_collection=True)\n",
    "plt.xticks(np.arange(min(vidaproyecto), max(vidaproyecto)+1))\n",
    "plt.yticks(np.arange(-100, max(medicina2)+50, 50))\n",
    "plt.ylabel(\"Dinero en Millones de pesos\")\n",
    "plt.xlabel(\"Años del proyecto\")"
   ]
  },
  {
   "cell_type": "code",
   "execution_count": 15,
   "metadata": {},
   "outputs": [
    {
     "data": {
      "text/plain": [
       "Text(0.5, 0, 'Años del primo')"
      ]
     },
     "execution_count": 15,
     "metadata": {},
     "output_type": "execute_result"
    },
    {
     "data": {
      "image/png": "[encoded data removed]",
      "text/plain": [
       "<Figure size 1152x648 with 1 Axes>"
      ]
     },
     "metadata": {
      "needs_background": "light"
     },
     "output_type": "display_data"
    }
   ],
   "source": [
    "plt.figure(figsize=(16,9))\n",
    "plt.stem(vidaprimo,medicina2,use_line_collection=True)\n",
    "plt.xticks(np.arange(min(vidaprimo), max(vidaprimo)+1, 1))\n",
    "plt.yticks(np.arange(-100, max(medicina2)+50, 50))\n",
    "plt.ylabel(\"Dinero en Millones de pesos\")\n",
    "plt.xlabel(\"Años del primo\")"
   ]
  },
  {
   "cell_type": "code",
   "execution_count": 44,
   "metadata": {},
   "outputs": [
    {
     "name": "stdout",
     "output_type": "stream",
     "text": [
      "A:  -51600000.0   i:  0.1   n:  5\n",
      "-195604597.30147603\n",
      "A:  -60000000.0   i:  0.1   n:  2\n",
      "-104132231.40495874\n",
      "D:  144000000.0   g:  0.05   k:  0.1   n:  24\n",
      "1937001022.9101102\n",
      "A:  132689826.25564949   i:  0.1   n:  20\n",
      "1129663290.791165\n",
      "Vf:  -104132231.40495874   i:  0.1   n:  5\n",
      "Vf:  1937001022.9101102   i:  0.1   n:  7\n",
      "Vf:  1129663290.791165   i:  0.1   n:  31\n",
      "[-195604597.30147603, -64657922.89706907, 993987799.9275056, 58853971.738798425]\n"
     ]
    },
    {
     "data": {
      "text/plain": [
       "792579251.4677589"
      ]
     },
     "execution_count": 44,
     "metadata": {},
     "output_type": "execute_result"
    }
   ],
   "source": [
    "#Calculo del valor presente de la medicina:\n",
    "vec = []\n",
    "\n",
    "#Flujo uniforme de 20 a 24 años en 19 años\n",
    "V1_19 = Vpuniforme(medicina[1],0.1,24-20+1)\n",
    "print(V1_19)\n",
    "vec.append(V1_19)\n",
    "\n",
    "#Flujo uniforme de 25 a 26 años en 24 años\n",
    "V2_24 = Vpuniforme(medicina[6],0.1,26-25+1)\n",
    "print(V2_24)\n",
    "\n",
    "#Gradiente geométrico de 27 a 50 años en 26 años\n",
    "V3_26 = Vpgradgeomfinito(medicina[8],0.05,0.1,50-27+1)\n",
    "print(V3_26)\n",
    "\n",
    "#Flujo uniforme de 51 a 70 años en 50 años\n",
    "V4_50 = Vpuniforme(medicina[32],0.1,70-51+1)\n",
    "print(V4_50)\n",
    "\n",
    "#Pasar todo a 19 años\n",
    "V2_19 = Vp(V2_24,0.1,24-19)\n",
    "vec.append(V2_19)\n",
    "V3_19 = Vp(V3_26,0.1,26-19)\n",
    "vec.append(V3_19)\n",
    "V4_19 = Vp(V4_50,0.1,50-19)\n",
    "vec.append(V4_19)\n",
    "\n",
    "print(vec)\n",
    "VPT2 = np.sum(vec)\n",
    "VPT2"
   ]
  },
  {
   "cell_type": "code",
   "execution_count": 18,
   "metadata": {},
   "outputs": [
    {
     "data": {
      "text/plain": [
       "792579251.4677578"
      ]
     },
     "execution_count": 18,
     "metadata": {},
     "output_type": "execute_result"
    }
   ],
   "source": [
    "VP = []\n",
    "VP2 = 0\n",
    "for i in range(len(medicina)):\n",
    "    VP.append(Vp(medicina[i],0.1,i))\n",
    "VP = np.array(VP)\n",
    "VP2 = np.sum(VP)\n",
    "VP2"
   ]
  },
  {
   "cell_type": "code",
   "execution_count": null,
   "metadata": {},
   "outputs": [],
   "source": [
    "# Si a mi primo le importa solo la money, entonces que estudie ingenieria civil"
   ]
  },
  {
   "cell_type": "code",
   "execution_count": 27,
   "metadata": {},
   "outputs": [
    {
     "data": {
      "text/plain": [
       "733725279.7289605"
      ]
     },
     "execution_count": 27,
     "metadata": {},
     "output_type": "execute_result"
    }
   ],
   "source": [
    "#Si al primo le pasa algo estudiando medicin a los 50:\n",
    "VP11 = np.sum(vec) - vec[-1]\n",
    "VP11"
   ]
  },
  {
   "cell_type": "code",
   "execution_count": 26,
   "metadata": {},
   "outputs": [
    {
     "data": {
      "text/plain": [
       "733725279.7289596"
      ]
     },
     "execution_count": 26,
     "metadata": {},
     "output_type": "execute_result"
    }
   ],
   "source": [
    "#Si al primo le pasa algo estudiando medicin a los 50 así no más:\n",
    "VP = []\n",
    "VP1 = 0\n",
    "for i in range(32):\n",
    "    VP.append(Vp(medicina[i],0.1,i))\n",
    "VP = np.array(VP)\n",
    "VP1 = np.sum(VP)\n",
    "VP1"
   ]
  }
 ],
 "metadata": {
  "kernelspec": {
   "display_name": "Python 3",
   "language": "python",
   "name": "python3"
  },
  "language_info": {
   "codemirror_mode": {
    "name": "ipython",
    "version": 3
   },
   "file_extension": ".py",
   "mimetype": "text/x-python",
   "name": "python",
   "nbconvert_exporter": "python",
   "pygments_lexer": "ipython3",
   "version": "3.7.6"
  }
 },
 "nbformat": 4,
 "nbformat_minor": 4
}
